{
 "cells": [
  {
   "cell_type": "code",
   "execution_count": 1,
   "metadata": {
    "collapsed": false
   },
   "outputs": [
    {
     "name": "stdout",
     "output_type": "stream",
     "text": [
      "Requirement already satisfied (use --upgrade to upgrade): sta663yw261 in /opt/conda/lib/python3.5/site-packages\n",
      "\u001b[33mYou are using pip version 8.1.2, however version 10.0.1 is available.\n",
      "You should consider upgrading via the 'pip install --upgrade pip' command.\u001b[0m\n"
     ]
    }
   ],
   "source": [
    "!pip install sta663yw261"
   ]
  },
  {
   "cell_type": "code",
   "execution_count": 2,
   "metadata": {
    "collapsed": false
   },
   "outputs": [],
   "source": [
    "import matplotlib.pyplot as plt\n",
    "import numpy as np\n",
    "from numpy import random\n",
    "from pkg import k_means_pp\n",
    "from pkg import scalable_k_means_pp\n",
    "from pkg import k_means\n",
    "\n",
    "random.seed(42)\n",
    "mean1=[0,0]\n",
    "cov1=np.array([[1, 0], [0, 1]])\n",
    "sample1 = np.random.multivariate_normal(mean1, cov1, 200)\n",
    "\n",
    "mean2=[12,12]\n",
    "cov2=np.array([[1, 0], [0, 1]])\n",
    "sample2 = np.random.multivariate_normal(mean2, cov2, 200)\n",
    "\n",
    "mean3=[8,8]\n",
    "cov3=np.array([[1, 0], [0, 1]])\n",
    "sample3 = np.random.multivariate_normal(mean3, cov3, 200)\n",
    "\n",
    "mean4=[5,5]\n",
    "cov4=np.array([[1, 0],[0, 1]])\n",
    "sample4 = np.random.multivariate_normal(mean4, cov4, 200)"
   ]
  },
  {
   "cell_type": "code",
   "execution_count": 3,
   "metadata": {
    "collapsed": false
   },
   "outputs": [],
   "source": [
    "sample=np.vstack((sample1,sample2,sample3,sample4))\n",
    "true_cen=np.vstack((mean1,mean2,mean3,mean4))\n",
    "C1=k_means_pp.kmeanspp(4,sample)\n",
    "pred_cen1=np.array(k_means.k_means(4,sample,C1)[0])"
   ]
  },
  {
   "cell_type": "code",
   "execution_count": 4,
   "metadata": {
    "collapsed": false
   },
   "outputs": [
    {
     "data": {
      "text/plain": [
       "(-2, 15)"
      ]
     },
     "execution_count": 4,
     "metadata": {},
     "output_type": "execute_result"
    },
    {
     "data": {
      "image/png": "[encoded data removed]",
      "text/plain": [
       "<matplotlib.figure.Figure at 0x7ff66be6b7b8>"
      ]
     },
     "metadata": {},
     "output_type": "display_data"
    }
   ],
   "source": [
    "plt.figure()\n",
    "plt.plot(pred_cen1[:,0],pred_cen1[:,1],\"ro\")\n",
    "plt.plot(true_cen[:,0],true_cen[:,1],\"ro\",color=\"blue\")\n",
    "plt.xlim(-2,15)\n",
    "plt.ylim(-2,15)"
   ]
  },
  {
   "cell_type": "code",
   "execution_count": 5,
   "metadata": {
    "collapsed": true
   },
   "outputs": [],
   "source": [
    "C2=scalable_k_means_pp.k_meansll(4,sample,2)\n",
    "predict_center2=np.array(k_means.k_means(4,sample,C2)[0])"
   ]
  },
  {
   "cell_type": "code",
   "execution_count": 6,
   "metadata": {
    "collapsed": false
   },
   "outputs": [
    {
     "data": {
      "text/plain": [
       "(-2, 15)"
      ]
     },
     "execution_count": 6,
     "metadata": {},
     "output_type": "execute_result"
    },
    {
     "data": {
      "image/png": "[encoded data removed]",
      "text/plain": [
       "<matplotlib.figure.Figure at 0x7ff668ac8eb8>"
      ]
     },
     "metadata": {},
     "output_type": "display_data"
    }
   ],
   "source": [
    "plt.figure()\n",
    "plt.plot(pred_cen1[:,0],pred_cen1[:,1],\"ro\")\n",
    "plt.plot(true_cen[:,0],true_cen[:,1],\"ro\",color=\"blue\")\n",
    "plt.xlim(-2,15)\n",
    "plt.ylim(-2,15)"
   ]
  },
  {
   "cell_type": "code",
   "execution_count": null,
   "metadata": {
    "collapsed": true
   },
   "outputs": [],
   "source": []
  }
 ],
 "metadata": {
  "kernelspec": {
   "display_name": "Python 3",
   "language": "python",
   "name": "python3"
  },
  "language_info": {
   "codemirror_mode": {
    "name": "ipython",
    "version": 3
   },
   "file_extension": ".py",
   "mimetype": "text/x-python",
   "name": "python",
   "nbconvert_exporter": "python",
   "pygments_lexer": "ipython3",
   "version": "3.5.2"
  }
 },
 "nbformat": 4,
 "nbformat_minor": 2
}
